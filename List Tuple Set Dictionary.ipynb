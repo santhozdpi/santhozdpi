{
  "nbformat": 4,
  "nbformat_minor": 0,
  "metadata": {
    "colab": {
      "provenance": [],
      "authorship_tag": "ABX9TyOThz0/SSX+R7AQXKKaZFhk",
      "include_colab_link": true
    },
    "kernelspec": {
      "name": "python3",
      "display_name": "Python 3"
    },
    "language_info": {
      "name": "python"
    }
  },
  "cells": [
    {
      "cell_type": "markdown",
      "metadata": {
        "id": "view-in-github",
        "colab_type": "text"
      },
      "source": [
        "<a href=\"https://colab.research.google.com/github/santhozdpi/santhozdpi/blob/main/List%20Tuple%20Set%20Dictionary.ipynb\" target=\"_parent\"><img src=\"https://colab.research.google.com/assets/colab-badge.svg\" alt=\"Open In Colab\"/></a>"
      ]
    },
    {
      "cell_type": "code",
      "execution_count": 19,
      "metadata": {
        "colab": {
          "base_uri": "https://localhost:8080/"
        },
        "id": "cBjd-T7Nn1OO",
        "outputId": "82b30341-723c-432f-910f-b9d6a6614406"
      },
      "outputs": [
        {
          "output_type": "stream",
          "name": "stdout",
          "text": [
            "[1, 2, 3, 4, 5, 6, 7, 7, 8, 9, 10, 11, 12]\n"
          ]
        }
      ],
      "source": [
        "#list\n",
        "a=[1,2,3,4,5,6]\n",
        "b=[7,8,9,10,11,12]\n",
        "a.insert(0,11)\n",
        "a.append(7)\n",
        "a.pop(0)\n",
        "a[0]=1\n",
        "a.extend(b)\n",
        "print(a)"
      ]
    },
    {
      "cell_type": "code",
      "source": [
        "#tuple\n",
        "a=(1,2,3,4,5,6,7,8)\n",
        "b=list(a)\n",
        "print(a)\n",
        "print(b)\n",
        "b.pop(0)\n",
        "print(b)"
      ],
      "metadata": {
        "colab": {
          "base_uri": "https://localhost:8080/"
        },
        "id": "5gEIT0jDunDY",
        "outputId": "837550ad-88da-4647-bed0-5d1a855d9af4"
      },
      "execution_count": 3,
      "outputs": [
        {
          "output_type": "stream",
          "name": "stdout",
          "text": [
            "(1, 2, 3, 4, 5, 6, 7, 8)\n",
            "[1, 2, 3, 4, 5, 6, 7, 8]\n",
            "[2, 3, 4, 5, 6, 7, 8]\n"
          ]
        }
      ]
    },
    {
      "cell_type": "code",
      "source": [
        "#set\n",
        "a={1,2,3,4,5}\n",
        "a.add(7)\n",
        "a.update([6])\n",
        "a.remove(1)\n",
        "print(a)"
      ],
      "metadata": {
        "colab": {
          "base_uri": "https://localhost:8080/"
        },
        "id": "rZbDXW3gFY6d",
        "outputId": "d994d43c-babb-4c43-eec1-6d9487764c43"
      },
      "execution_count": 13,
      "outputs": [
        {
          "output_type": "stream",
          "name": "stdout",
          "text": [
            "{2, 3, 4, 5, 6, 7}\n"
          ]
        }
      ]
    },
    {
      "cell_type": "code",
      "source": [
        "#Dictionary\n",
        "a={\"name\":\"Santhosh\",\"Age\":23,\"Occupation\":\"Student\"}\n",
        "a.pop(\"Age\")\n",
        "a.update({\"name\":\"Santa\"})\n",
        "a.pop(\"Occupation\")\n",
        "print(a)"
      ],
      "metadata": {
        "colab": {
          "base_uri": "https://localhost:8080/"
        },
        "id": "RfREw6vWNIT5",
        "outputId": "437a924a-bd3d-462a-ca00-c3a1c10fed17"
      },
      "execution_count": 30,
      "outputs": [
        {
          "output_type": "stream",
          "name": "stdout",
          "text": [
            "{'name': 'Santa'}\n"
          ]
        }
      ]
    }
  ]
}