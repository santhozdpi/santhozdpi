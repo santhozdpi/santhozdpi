{
  "nbformat": 4,
  "nbformat_minor": 0,
  "metadata": {
    "colab": {
      "provenance": [],
      "authorship_tag": "ABX9TyP+yrXQ7dIZlULMEmBCwo/Y",
      "include_colab_link": true
    },
    "kernelspec": {
      "name": "python3",
      "display_name": "Python 3"
    },
    "language_info": {
      "name": "python"
    }
  },
  "cells": [
    {
      "cell_type": "markdown",
      "metadata": {
        "id": "view-in-github",
        "colab_type": "text"
      },
      "source": [
        "<a href=\"https://colab.research.google.com/github/santhozdpi/santhozdpi/blob/main/Numpy_Practice_py.ipynb\" target=\"_parent\"><img src=\"https://colab.research.google.com/assets/colab-badge.svg\" alt=\"Open In Colab\"/></a>"
      ]
    },
    {
      "cell_type": "code",
      "execution_count": 7,
      "metadata": {
        "colab": {
          "base_uri": "https://localhost:8080/"
        },
        "collapsed": true,
        "id": "8U-b5HGLTNAr",
        "outputId": "42fdeb98-f075-4084-d044-9cc336836f9f"
      },
      "outputs": [
        {
          "output_type": "stream",
          "name": "stdout",
          "text": [
            "[1 2 3 4 5]\n",
            "[[1 2 3]\n",
            " [4 5 6]]\n",
            "  Name  Age  Salary\n",
            "0    A   25   50000\n",
            "1    B   30   60000\n",
            "2    C   35   70000\n",
            "3    D   40   80000\n",
            "0    A\n",
            "1    B\n",
            "2    C\n",
            "3    D\n",
            "Name: Name, dtype: object\n",
            "             Age        Salary\n",
            "count   4.000000      4.000000\n",
            "mean   32.500000  65000.000000\n",
            "std     6.454972  12909.944487\n",
            "min    25.000000  50000.000000\n",
            "25%    28.750000  57500.000000\n",
            "50%    32.500000  65000.000000\n",
            "75%    36.250000  72500.000000\n",
            "max    40.000000  80000.000000\n",
            "  Name  Age  Salary\n",
            "2    C   35   70000\n",
            "3    D   40   80000\n"
          ]
        }
      ],
      "source": [
        "import numpy as np\n",
        "import pandas\n",
        "import seaborn\n",
        "import matplotlib\n",
        "\n",
        "arr1 = np.array([1, 2, 3, 4, 5])  # 1D array\n",
        "arr2 = np.array([[1, 2, 3], [4, 5, 6]])  # 2D array\n",
        "print(arr1)\n",
        "print(arr2)\n",
        "import pandas as pd\n",
        "\n",
        "# Creating a DataFrame\n",
        "data = {'Name': ['A', 'B', 'C', 'D'],\n",
        "        'Age': [25, 30, 35, 40],\n",
        "        'Salary': [50000, 60000, 70000, 80000]}\n",
        "\n",
        "df = pd.DataFrame(data)\n",
        "print(df)\n",
        "\n",
        "# Accessing Columns\n",
        "print(df['Name'])\n",
        "\n",
        "# Descriptive Statistics\n",
        "print(df.describe())\n",
        "\n",
        "# Filtering Data\n",
        "print(df[df['Age'] > 30])\n",
        "\n",
        "\n"
      ]
    },
    {
      "cell_type": "code",
      "source": [
        "import numpy as np\n",
        "arr1 = np.array([1, 2, 3, 4, 5])  # 1D array\n",
        "arr2 = np.array([[1, 2, 3], [4, 5, 6]])  # 2D array\n",
        "print(arr1)\n",
        "print(arr2)"
      ],
      "metadata": {
        "colab": {
          "base_uri": "https://localhost:8080/"
        },
        "id": "apEKDWZua9uV",
        "outputId": "2e713bc5-8c86-4cd5-dafe-b983bde0143a"
      },
      "execution_count": 8,
      "outputs": [
        {
          "output_type": "stream",
          "name": "stdout",
          "text": [
            "[1 2 3 4 5]\n",
            "[[1 2 3]\n",
            " [4 5 6]]\n"
          ]
        }
      ]
    }
  ]
}